{
 "cells": [
  {
   "cell_type": "code",
   "execution_count": null,
   "metadata": {},
   "outputs": [],
   "source": [
    "import cv2\n",
    "import torch\n",
    "import matplotlib.pyplot as plt\n",
    "import numpy as np\n",
    "import os"
   ]
  },
  {
   "cell_type": "code",
   "execution_count": null,
   "metadata": {},
   "outputs": [],
   "source": [
    "path_dataset = '../dataset/'   # The folder where the dataset is located\n",
    "model = 'orb'               # Model Name,Used to create corresponding folders"
   ]
  },
  {
   "cell_type": "code",
   "execution_count": null,
   "metadata": {},
   "outputs": [],
   "source": [
    "def get_keypoint_orb(img_path,kp_save_path):\n",
    "    # If the result already exists, \n",
    "    # return it directly (for the possibility of interruption)\n",
    "    if(os.path.exists(kp_save_path)):\n",
    "        return\n",
    "    \n",
    "    \n",
    "    # Initialize ORB\n",
    "    orb = cv2.ORB_create()\n",
    "\n",
    "    # Reading image\n",
    "    image = cv2.imread(img_path, cv2.IMREAD_GRAYSCALE)\n",
    "    image_tensor = torch.tensor(image, dtype=torch.uint8)\n",
    "\n",
    "    # Extract feature points\n",
    "    keypoints, descriptors = orb.detectAndCompute(image_tensor.numpy(), None)\n",
    "\n",
    "    # Convert keypoints to a numpy array\n",
    "    keypoints_np = [[kp.pt[0],kp.pt[1]] for kp in keypoints]\n",
    "    keypoints_np = np.array(keypoints_np)\n",
    "\n",
    "    # Save keypoints\n",
    "    np.savetxt(kp_save_path,keypoints_np)"
   ]
  },
  {
   "cell_type": "code",
   "execution_count": null,
   "metadata": {},
   "outputs": [],
   "source": [
    "# Traverse folders and extract keypoints from all images\n",
    "for filename in os.listdir(path_dataset):\n",
    "    # Temp refers to each image\n",
    "    temp = path_dataset+filename+'/'\n",
    "    # Typee refers to each type of transformation\n",
    "    for typee in os.listdir(temp):\n",
    "        dir_temp = temp+typee+'/'\n",
    "        print(dir_temp)\n",
    "\n",
    "        # Save the results in the corresponding folder\n",
    "        output_dir = dir_temp+model+'_result/'\n",
    "        if not os.path.exists(output_dir):\n",
    "            os.makedirs(output_dir)\n",
    "        \n",
    "        img_src_path = dir_temp+'im_src_clip.png'\n",
    "        img_dst_path = dir_temp+'im_dst_clip.png'\n",
    "        kp_src = output_dir+'kp_src.txt'\n",
    "        kp_dst = output_dir+'kp_dst.txt'\n",
    "\n",
    "\n",
    "        # Extract feature points\n",
    "        # The processing of the original image and the transformation image is the same, \n",
    "        # except for the difference in file names\n",
    "        if(typee=='src'):\n",
    "            get_keypoint_orb(img_src_path,kp_src)\n",
    "        else:\n",
    "            get_keypoint_orb(img_dst_path,kp_dst)"
   ]
  }
 ],
 "metadata": {
  "kernelspec": {
   "display_name": "base",
   "language": "python",
   "name": "python3"
  },
  "language_info": {
   "codemirror_mode": {
    "name": "ipython",
    "version": 3
   },
   "file_extension": ".py",
   "mimetype": "text/x-python",
   "name": "python",
   "nbconvert_exporter": "python",
   "pygments_lexer": "ipython3",
   "version": "3.10.9"
  },
  "orig_nbformat": 4
 },
 "nbformat": 4,
 "nbformat_minor": 2
}
