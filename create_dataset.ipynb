{
 "cells": [
  {
   "cell_type": "code",
   "execution_count": null,
   "metadata": {},
   "outputs": [],
   "source": [
    "import os\n",
    "import cv2\n",
    "import pandas as pd\n",
    "import numpy as np\n",
    "import ast"
   ]
  },
  {
   "cell_type": "code",
   "execution_count": null,
   "metadata": {},
   "outputs": [],
   "source": [
    "im_src_dir = '../raw_image/all/'    # The folder where the original image is located\n",
    "translate_file_path = 'matrix.xlsx' # Table for storing transformation matrices\n",
    "dataset_path = '../dataset/'        # The save path for the generated dataset"
   ]
  },
  {
   "cell_type": "code",
   "execution_count": null,
   "metadata": {},
   "outputs": [],
   "source": [
    "# Perform 72 transformations on an original image and save it to the corresponding folder\n",
    "def transform(_img_path,_output_dir,translate_file_path):\n",
    "    # Read transformation matrix table\n",
    "    data = pd.read_excel(translate_file_path)\n",
    "    data4trans = data[['trans_type','direction','degree','trans_matrix','roi']]\n",
    "\n",
    "    # Reading image\n",
    "    im_src = cv2.imread(_img_path)\n",
    "    # Save a separate copy of the original image and its cropped image\n",
    "    if not os.path.exists(_output_dir+'src/'):\n",
    "        os.mkdir(_output_dir+'src/')\n",
    "    cv2.imwrite(_output_dir+'src/im_src.png',im_src)\n",
    "    roi = np.int32(str2mtx(data4trans['roi'][0]))\n",
    "    im_src_clip = im_src[roi[0]:roi[1],roi[2]:roi[3]]\n",
    "    cv2.imwrite(_output_dir+'src/im_src_clip.png',im_src_clip)\n",
    "\n",
    "    # Generate transformation graphs for each transformation matrix\n",
    "    rows = data4trans.shape[0]\n",
    "    for i in range(0,rows):\n",
    "        # Read transformation matrix\n",
    "        h = np.float64(str2mtx(data4trans['trans_matrix'][i]))\n",
    "        # Perform transformation\n",
    "        im_create = cv2.warpPerspective(im_src, h, (im_src.shape[1],im_src.shape[0]))\n",
    "        # Create corresponding folder\n",
    "        output_dir = _output_dir+str(data4trans['trans_type'][i])+'_'+str(data4trans['direction'][i])+'_'+str(data4trans['degree'][i]).rjust(3,'0')+'/'\n",
    "        print(output_dir)\n",
    "        if not os.path.exists(output_dir):\n",
    "            os.mkdir(output_dir)\n",
    "\n",
    "\n",
    "        # Save Transformation Matrix\n",
    "        np.savetxt(output_dir+'h.txt',h)\n",
    "        # Save the transformed image\n",
    "        cv2.imwrite(output_dir+'im_dst.png',im_create)\n",
    "        # Read the coordinates of the captured area\n",
    "        roi = np.int32(str2mtx(data4trans['roi'][i]))\n",
    "        # Cropping\n",
    "        im_create_clip = im_create[roi[0]:roi[1],roi[2]:roi[3]]\n",
    "        # Save the coordinates of the captured area\n",
    "        np.savetxt(output_dir+'roi.txt',roi)\n",
    "        # Save the screenshot of the transformed image\n",
    "        cv2.imwrite(output_dir+'im_dst_clip.png',im_create_clip)\n",
    "\n",
    "# Convert string to 2D array\n",
    "def str2mtx(input_str):\n",
    "    # Remove commas and split into one-dimensional arrays\n",
    "    input_str = input_str.replace(' ','')\n",
    "    list_str = input_str.replace(',', ' ').split()\n",
    "    # Splicing a one-dimensional array into a two-dimensional array\n",
    "    two_dim_list = ast.literal_eval('[' + ','.join(list_str) + ']')\n",
    "    res = two_dim_list[0]\n",
    "    return res"
   ]
  },
  {
   "cell_type": "code",
   "execution_count": null,
   "metadata": {},
   "outputs": [],
   "source": [
    "# Create a folder corresponding to each image\n",
    "files = os.listdir(im_src_dir)\n",
    "\n",
    "for file in files:\n",
    "    print(file)\n",
    "    if not os.path.exists(dataset_path+file.split('.')[0]+'/'):\n",
    "        os.mkdir(dataset_path+file.split('.')[0]+'/')"
   ]
  },
  {
   "cell_type": "code",
   "execution_count": null,
   "metadata": {},
   "outputs": [],
   "source": [
    "# Perform transformations on each image and save them\n",
    "for file in files:\n",
    "    output_dir = dataset_path+file.split('.')[0]+'/'\n",
    "    print(output_dir)\n",
    "    transform(im_src_dir+file,output_dir,translate_file_path)"
   ]
  }
 ],
 "metadata": {
  "kernelspec": {
   "display_name": "base",
   "language": "python",
   "name": "python3"
  },
  "language_info": {
   "codemirror_mode": {
    "name": "ipython",
    "version": 3
   },
   "file_extension": ".py",
   "mimetype": "text/x-python",
   "name": "python",
   "nbconvert_exporter": "python",
   "pygments_lexer": "ipython3",
   "version": "3.10.9"
  }
 },
 "nbformat": 4,
 "nbformat_minor": 2
}
