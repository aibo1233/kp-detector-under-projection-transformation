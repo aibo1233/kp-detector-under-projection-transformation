{
 "cells": [
  {
   "cell_type": "code",
   "execution_count": null,
   "metadata": {},
   "outputs": [],
   "source": [
    "import os\n",
    "import shutil"
   ]
  },
  {
   "cell_type": "code",
   "execution_count": null,
   "metadata": {},
   "outputs": [],
   "source": [
    "path_dataset = '../../dataset/'\n",
    "target_path = 'dataset/'\n",
    "result_path = 'output/'\n",
    "img_list_file = 'image_list.txt'"
   ]
  },
  {
   "cell_type": "code",
   "execution_count": null,
   "metadata": {},
   "outputs": [],
   "source": [
    "pass\n",
    "# # Read all images in the dataset\n",
    "# # Unified placement in dataset/folder\n",
    "# for filename in os.listdir(path_dataset):\n",
    "#     temp = path_dataset+filename+'/'\n",
    "#     # print(temp)\n",
    "\n",
    "#     for typee in os.listdir(temp):\n",
    "#         dir_temp = temp+typee+'/'\n",
    "#         # print(dir_temp)\n",
    "\n",
    "#         img_src_path = dir_temp+'im_src_clip.png'\n",
    "#         img_dst_path = dir_temp+'im_dst_clip.png'\n",
    "#         if(typee=='src'):\n",
    "#             shutil.copy(img_src_path, target_path+filename+'_'+typee+'.png')\n",
    "#         else:\n",
    "#             shutil.copy(img_dst_path, target_path+filename+'_'+typee+'.png')\n",
    "\n",
    "#         print(filename+'_'+typee)"
   ]
  },
  {
   "cell_type": "code",
   "execution_count": null,
   "metadata": {},
   "outputs": [],
   "source": [
    "pass\n",
    "# with open(img_list_file,\"w\") as f:\n",
    "#     for file in os.listdir(target_path):\n",
    "#         f.write(file+'\\n')\n",
    "#         # print(file)"
   ]
  },
  {
   "cell_type": "code",
   "execution_count": null,
   "metadata": {},
   "outputs": [],
   "source": [
    "# pass\n",
    "# Resave the results back to the corresponding folder\n",
    "file_list = []\n",
    "for filename in os.listdir(result_path):\n",
    "    if(filename[-1]!='y'):\n",
    "        continue\n",
    "    file_list.append(filename)\n",
    "\n",
    "    name_list = filename.split('_')\n",
    "    if(len(name_list)==5):\n",
    "        # str_dir = filename[:-22]\n",
    "        # str_type = filename[-21:-4]\n",
    "        str_dir = filename[:-30]\n",
    "        str_type = filename[-29:-12]\n",
    "    elif(len(name_list)==3):\n",
    "        str_dir = name_list[0]+'_'+name_list[1]\n",
    "        # str_type = name_list[2][:-4]\n",
    "        str_type = name_list[2][:-12]\n",
    "\n",
    "\n",
    "    print(str_dir)\n",
    "    print(str_type)\n",
    "\n",
    "    path2save = path_dataset+str_dir+'/'+str_type+'/keynet_result/'\n",
    "    if(not os.path.exists(path2save)):\n",
    "        os.makedirs(path2save)\n",
    "    if(str_type=='src'):\n",
    "        shutil.copy(result_path+filename,path2save+'kp_src.txt')\n",
    "    else:\n",
    "        shutil.copy(result_path+filename,path2save+'kp_dst.txt')"
   ]
  }
 ],
 "metadata": {
  "kernelspec": {
   "display_name": "base",
   "language": "python",
   "name": "python3"
  },
  "language_info": {
   "codemirror_mode": {
    "name": "ipython",
    "version": 3
   },
   "file_extension": ".py",
   "mimetype": "text/x-python",
   "name": "python",
   "nbconvert_exporter": "python",
   "pygments_lexer": "ipython3",
   "version": "3.10.9"
  },
  "orig_nbformat": 4
 },
 "nbformat": 4,
 "nbformat_minor": 2
}
